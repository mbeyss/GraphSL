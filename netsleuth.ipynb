{
 "cells": [
  {
   "cell_type": "code",
   "execution_count": 1,
   "metadata": {},
   "outputs": [],
   "source": [
    "import networkx as nx\n",
    "import numpy as np\n",
    "from collections import Counter, defaultdict\n",
    "import random\n",
    "from scipy.special import softmax\n",
    "import torch\n",
    "\n",
    "\n",
    "from main.utils import load_dataset, InverseProblemDataset, adj_process\n",
    "from sklearn.metrics import accuracy_score, precision_score, recall_score, f1_score, roc_auc_score"
   ]
  },
  {
   "cell_type": "code",
   "execution_count": 2,
   "metadata": {},
   "outputs": [],
   "source": [
    "dataset = 'power_grid' # 'cora_ml', 'citeseer', 'ms_academic', 'pubmed'\n",
    "graph = load_dataset(dataset)\n",
    "adj = graph.adj_matrix.todense()"
   ]
  },
  {
   "cell_type": "code",
   "execution_count": 3,
   "metadata": {},
   "outputs": [],
   "source": [
    "inverse_pairs = InverseProblemDataset(dataset)"
   ]
  },
  {
   "cell_type": "code",
   "execution_count": 41,
   "metadata": {},
   "outputs": [],
   "source": [
    "import pickle\n",
    "\n",
    "with open('power_grid_SI.SG', 'rb') as f:\n",
    "    graph = pickle.load(f)\n",
    "    \n",
    "adj, inverse_pairs, prob_matrix = graph['adj'].toarray(), graph['inverse_pairs'], graph['prob'].toarray()"
   ]
  },
  {
   "cell_type": "code",
   "execution_count": 42,
   "metadata": {},
   "outputs": [
    {
     "name": "stdout",
     "output_type": "stream",
     "text": [
      "(8, 4941, 2)\n"
     ]
    }
   ],
   "source": [
    "train_set, test_set = torch.utils.data.random_split(inverse_pairs, [len(inverse_pairs)-8, 8])\n",
    "data = test_set[:].numpy()\n",
    "print(data.shape)"
   ]
  },
  {
   "cell_type": "code",
   "execution_count": 43,
   "metadata": {},
   "outputs": [],
   "source": [
    "G = nx.from_numpy_matrix(adj)"
   ]
  },
  {
   "cell_type": "code",
   "execution_count": 44,
   "metadata": {},
   "outputs": [],
   "source": [
    "def NetSleuth(G, k, target_vector):\n",
    "    \n",
    "    N = len(G)\n",
    "    G.remove_nodes_from([n for n in G if n not in np.where(target_vector==1)[0]])\n",
    "    lap = nx.laplacian_matrix(G).toarray()\n",
    "    \n",
    "    seed = []\n",
    "    loss = 1e3\n",
    "    t = 0\n",
    "    while len(seed) < k:\n",
    "        t += 1\n",
    "        # loss = loss_new\n",
    "        value, vector = np.linalg.eig(lap)\n",
    "        index = np.argmax(vector[np.argmin(value)])\n",
    "        seed_index = list(G.nodes)[index]\n",
    "        seed.append(seed_index)\n",
    "        G.remove_node(seed_index)\n",
    "        lap = nx.laplacian_matrix(G).toarray()\n",
    "        # loss_new = score(G, seed, beta, k, t, N)\n",
    "    \n",
    "    return np.array(seed)"
   ]
  },
  {
   "cell_type": "code",
   "execution_count": 45,
   "metadata": {},
   "outputs": [],
   "source": [
    "def write_to_gephi(dataset, gt_y, gt_x, pred_x):\n",
    "    graph = load_dataset(dataset)\n",
    "    true_G = nx.from_scipy_sparse_matrix(graph.adj_matrix)\n",
    "    pred_G = nx.from_scipy_sparse_matrix(graph.adj_matrix)\n",
    "    true_y = nx.from_scipy_sparse_matrix(graph.adj_matrix)\n",
    "    \n",
    "    for i in true_G.nodes:\n",
    "        true_G.nodes[i]['class'] = gt_x[i]\n",
    "        pred_G.nodes[i]['class'] = pred_x[i]\n",
    "        true_y.nodes[i]['inf_rate'] = gt_y[i]\n",
    "        \n",
    "    nx.write_gexf(true_G, \"{}_Netsleuth_real.gexf\".format(dataset))\n",
    "    nx.write_gexf(pred_G, \"{}_Netsleuth_pred.gexf\".format(dataset))\n",
    "    nx.write_gexf(true_y, \"{}_Netsleuth_y.gexf\".format(dataset))"
   ]
  },
  {
   "cell_type": "code",
   "execution_count": 46,
   "metadata": {},
   "outputs": [
    {
     "name": "stdout",
     "output_type": "stream",
     "text": [
      "494 1005\n",
      "494 1029\n",
      "494 938\n",
      "494 996\n",
      "494 971\n",
      "494 1032\n",
      "494 1041\n",
      "494 955\n"
     ]
    }
   ],
   "source": [
    "accuracy = 0\n",
    "precision = 0\n",
    "recall = 0\n",
    "f1 = 0\n",
    "auc = 0\n",
    "\n",
    "for pair in data:\n",
    "    G = nx.from_scipy_sparse_matrix(graph['adj'])\n",
    "    seed, target = pair[:, 0], pair[:, 1]\n",
    "# seed, target = data[0, :, 0], data[0, :, 1]\n",
    "    k = len(seed[seed==1])\n",
    "\n",
    "    target[target>0.9] = 1\n",
    "    target[target != 1] = 0\n",
    "    print(k, len(target[target==1]))\n",
    "    pred_index = NetSleuth(G, k*1.2, target)\n",
    "    pred_seed = np.zeros(adj.shape[0])\n",
    "    pred_seed[pred_index] = 1\n",
    "\n",
    "    accuracy += accuracy_score(seed, pred_seed)\n",
    "    precision += precision_score(seed, pred_seed)\n",
    "    recall += recall_score(seed, pred_seed)\n",
    "    f1 += f1_score(seed, pred_seed)\n",
    "    auc += roc_auc_score(seed, pred_seed)"
   ]
  },
  {
   "cell_type": "code",
   "execution_count": 47,
   "metadata": {},
   "outputs": [
    {
     "name": "stdout",
     "output_type": "stream",
     "text": [
      "0.9000202388180529 0.5 0.6002024291497976 0.5455381784728611 0.7667641333965763\n"
     ]
    }
   ],
   "source": [
    "print(accuracy/8, precision/8, recall/8, f1/8, auc/8)"
   ]
  },
  {
   "cell_type": "code",
   "execution_count": 29,
   "metadata": {},
   "outputs": [
    {
     "data": {
      "text/plain": [
       "array([0., 0., 0., 0., 0., 0., 0., 0., 0., 0., 0., 0., 0., 0., 0., 0., 0.,\n",
       "       0., 0., 0., 0., 1., 0., 0., 0., 1., 0., 1., 0., 0., 0., 0., 1., 0.])"
      ]
     },
     "execution_count": 29,
     "metadata": {},
     "output_type": "execute_result"
    }
   ],
   "source": [
    "pred_seed"
   ]
  },
  {
   "cell_type": "code",
   "execution_count": 30,
   "metadata": {
    "scrolled": true
   },
   "outputs": [
    {
     "data": {
      "text/plain": [
       "array([0., 1., 0., 1., 1., 0., 0., 0., 0., 0., 0., 0., 0., 0., 0., 0., 0.,\n",
       "       0., 0., 0., 0., 0., 0., 0., 0., 0., 0., 0., 0., 0., 0., 0., 0., 0.],\n",
       "      dtype=float32)"
      ]
     },
     "execution_count": 30,
     "metadata": {},
     "output_type": "execute_result"
    }
   ],
   "source": [
    "seed"
   ]
  },
  {
   "cell_type": "code",
   "execution_count": 31,
   "metadata": {},
   "outputs": [],
   "source": [
    "import networkx as nx"
   ]
  },
  {
   "cell_type": "code",
   "execution_count": 48,
   "metadata": {},
   "outputs": [],
   "source": [
    "write_to_gephi('power_grid', target, pred_seed, seed)"
   ]
  },
  {
   "cell_type": "code",
   "execution_count": 62,
   "metadata": {},
   "outputs": [],
   "source": [
    "# # 生成数据\n",
    "# G = nx.from_scipy_sparse_matrix(graph.adj_matrix)\n",
    "# probs = [0.01, 0.05, 0.1, 0.15, 0.3, 0.5]\n",
    "# graph_size = adj.shape[0]\n",
    "\n",
    "# for (u, v) in G.edges():\n",
    "#     G.edges[u,v]['weight'] = random.choice(probs)\n",
    "\n",
    "# # Getting the P matrix\n",
    "# weighted_adj = nx.adjacency_matrix(G).toarray()\n",
    "# for i in range(graph_size):\n",
    "#     weighted_adj[i][np.where(weighted_adj[i]>0)] = softmax(weighted_adj[i][np.where(weighted_adj[i]>0)])\n",
    "\n",
    "# # Controlling the seeds in the same region\n",
    "# inverse_pairs = []\n",
    "# for i in range(50):\n",
    "#     _seeds = np.random.choice(80, 50, replace=False)\n",
    "#     seed_vec = np.zeros((graph_size))\n",
    "#     seed_vec[_seeds] = 1.0\n",
    "\n",
    "#     inf_vec = np.zeros((graph_size))\n",
    "#     inf_vec[_seeds] = 1.0\n",
    "\n",
    "#     for x in range(10):\n",
    "#         inf_vec=np.dot(inf_vec, weighted_adj)\n",
    "\n",
    "#     inverse_pairs.append([seed_vec, inf_vec]\n",
    "# inverse_pairs = np.array(inverse_pairs)"
   ]
  },
  {
   "cell_type": "code",
   "execution_count": 50,
   "metadata": {},
   "outputs": [],
   "source": [
    "# 获取感染点的所有邻居，并计算邻居连接的感染点数目\n",
    "def get_neighbor(G, seed):\n",
    "    neighbor_list = []\n",
    "    for s in seed:\n",
    "        neighbor_list += [i for i in nx.all_neighbors(G, s)]\n",
    "    result = Counter(neighbor_list)\n",
    "    \n",
    "    neighbor_count = defaultdict(list)\n",
    "    for key, value in result.items():\n",
    "        neighbor_count[value].append(key)\n",
    "        \n",
    "    return dict(neighbor_count)"
   ]
  },
  {
   "cell_type": "code",
   "execution_count": 4,
   "metadata": {},
   "outputs": [],
   "source": [
    "# 定义二次项系数\n",
    "def Cnk(n, k):\n",
    "    if k==0: return 1\n",
    "    if n==0: return 0\n",
    "    \n",
    "    return Cnk(n-1,k)+Cnk(n-1,k-1)"
   ]
  },
  {
   "cell_type": "code",
   "execution_count": 64,
   "metadata": {},
   "outputs": [],
   "source": [
    "# # 计算得分L\n",
    "# def score(G, seed, beta, k, t, N):\n",
    "    \n",
    "#     n = len(G)\n",
    "    \n",
    "#     n_seed = len(seed)\n",
    "#     log_seed = np.log(n_seed)\n",
    "    \n",
    "#     # 计算L(S)\n",
    "#     loss_s = 0\n",
    "    \n",
    "#     while log_seed >= 0:\n",
    "#         loss_s += log_seed\n",
    "#         log_seed = np.log(log_seed)\n",
    "#     loss_s = loss_s + np.log(2.865064) + np.log(Cnk(N, n_seed))\n",
    "    \n",
    "#     neighbor_dict = get_neighbor(G, seed)\n",
    "    \n",
    "#     # 计算L(R|S)\n",
    "#     loss_r = 0\n",
    "#     log_t = np.log(t)\n",
    "#     while log_t>= 0:\n",
    "#         loss_r += log_t\n",
    "#         log_t = np.log(log_t)\n",
    "#     loss_r += np.log(2.865064)  "
   ]
  },
  {
   "cell_type": "code",
   "execution_count": 242,
   "metadata": {},
   "outputs": [],
   "source": [
    "graph = load_dataset(dataset)\n",
    "adj = graph.adj_matrix.todense()\n",
    "G = nx.from_scipy_sparse_matrix(graph.adj_matrix)"
   ]
  },
  {
   "cell_type": "code",
   "execution_count": 245,
   "metadata": {},
   "outputs": [
    {
     "name": "stdout",
     "output_type": "stream",
     "text": [
      "0.9252669039145908 0.5588235294117647 0.5588235294117647\n"
     ]
    }
   ],
   "source": [
    "print(accuracy, precision, recall)"
   ]
  },
  {
   "cell_type": "code",
   "execution_count": null,
   "metadata": {},
   "outputs": [],
   "source": []
  }
 ],
 "metadata": {
  "kernelspec": {
   "display_name": "Python 3",
   "language": "python",
   "name": "python3"
  },
  "language_info": {
   "codemirror_mode": {
    "name": "ipython",
    "version": 3
   },
   "file_extension": ".py",
   "mimetype": "text/x-python",
   "name": "python",
   "nbconvert_exporter": "python",
   "pygments_lexer": "ipython3",
   "version": "3.8.8"
  }
 },
 "nbformat": 4,
 "nbformat_minor": 2
}
