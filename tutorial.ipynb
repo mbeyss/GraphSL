{
 "cells": [
  {
   "cell_type": "code",
   "execution_count": 5,
   "id": "76dc570e-d1a0-4c70-af17-8ac5d65a8ed8",
   "metadata": {},
   "outputs": [],
   "source": [
    "#load modules"
   ]
  },
  {
   "cell_type": "code",
   "execution_count": 7,
   "id": "b71c99a9-abe2-4de1-aeb9-117f99a9c235",
   "metadata": {},
   "outputs": [],
   "source": [
    "from GraphSL.GNN.SLVAE.main import SLVAE\n",
    "from GraphSL.GNN.IVGD.main import IVGD\n",
    "from GraphSL.GNN.GCNSI.main import GCNSI\n",
    "from GraphSL.Prescribed import LPSI, NetSleuth, OJC\n",
    "from GraphSL.utils import load_dataset, diffusion_generation, split_dataset\n",
    "import os"
   ]
  },
  {
   "cell_type": "code",
   "execution_count": 11,
   "id": "ef2783f4-9ff7-4e93-912d-33b6522ae6cc",
   "metadata": {},
   "outputs": [
    {
     "name": "stdout",
     "output_type": "stream",
     "text": [
      "/home/dsss/junwang/personal/GraphSL\n"
     ]
    }
   ],
   "source": [
    "curr_dir = os.getcwd()\n",
    "print (curr_dir)"
   ]
  },
  {
   "cell_type": "code",
   "execution_count": 12,
   "id": "be29d10a-ed05-49d3-a409-086a6cdfe495",
   "metadata": {},
   "outputs": [
    {
     "name": "stdout",
     "output_type": "stream",
     "text": [
      "{'adj_mat': <34x34 sparse matrix of type '<class 'numpy.float32'>'\n",
      "\twith 156 stored elements in Compressed Sparse Row format>}\n"
     ]
    }
   ],
   "source": [
    "# load datasets ('karate', 'dolphins', 'jazz', 'netscience', 'cora_ml', 'power_grid')\n",
    "data_name = 'karate'\n",
    "graph = load_dataset(data_name, data_dir=curr_dir)\n",
    "print(graph)"
   ]
  },
  {
   "cell_type": "code",
   "execution_count": 13,
   "id": "aeff29ee-c7e5-491b-8440-5095ce728cea",
   "metadata": {},
   "outputs": [
    {
     "name": "stdout",
     "output_type": "stream",
     "text": [
      "{'adj_mat': <34x34 sparse matrix of type '<class 'numpy.float32'>'\n",
      "\twith 156 stored elements in Compressed Sparse Row format>, 'diff_mat': tensor([[[0., 1.],\n",
      "         [1., 1.],\n",
      "         [1., 1.],\n",
      "         ...,\n",
      "         [1., 1.],\n",
      "         [1., 1.],\n",
      "         [1., 1.]],\n",
      "\n",
      "        [[1., 1.],\n",
      "         [1., 1.],\n",
      "         [1., 1.],\n",
      "         ...,\n",
      "         [0., 1.],\n",
      "         [1., 1.],\n",
      "         [1., 1.]],\n",
      "\n",
      "        [[1., 1.],\n",
      "         [0., 1.],\n",
      "         [0., 1.],\n",
      "         ...,\n",
      "         [1., 1.],\n",
      "         [1., 1.],\n",
      "         [1., 1.]],\n",
      "\n",
      "        ...,\n",
      "\n",
      "        [[0., 1.],\n",
      "         [1., 1.],\n",
      "         [1., 1.],\n",
      "         ...,\n",
      "         [1., 1.],\n",
      "         [0., 1.],\n",
      "         [1., 1.]],\n",
      "\n",
      "        [[0., 1.],\n",
      "         [0., 1.],\n",
      "         [1., 1.],\n",
      "         ...,\n",
      "         [1., 1.],\n",
      "         [0., 1.],\n",
      "         [1., 1.]],\n",
      "\n",
      "        [[1., 1.],\n",
      "         [1., 1.],\n",
      "         [1., 1.],\n",
      "         ...,\n",
      "         [1., 1.],\n",
      "         [0., 1.],\n",
      "         [0., 1.]]])}\n"
     ]
    }
   ],
   "source": [
    "# generate diffusion\n",
    "dataset = diffusion_generation(graph=graph, infect_prob=0.3, diff_type='IC', sim_num=100, seed_ratio=0.2)\n",
    "print(dataset)"
   ]
  },
  {
   "cell_type": "code",
   "execution_count": 16,
   "id": "745ae7dc-0c86-4941-a2ae-bf7af8941927",
   "metadata": {},
   "outputs": [
    {
     "name": "stdout",
     "output_type": "stream",
     "text": [
      "adj=  (0, 1)\t1.0\n",
      "  (0, 2)\t1.0\n",
      "  (0, 3)\t1.0\n",
      "  (0, 4)\t1.0\n",
      "  (0, 5)\t1.0\n",
      "  (0, 6)\t1.0\n",
      "  (0, 7)\t1.0\n",
      "  (0, 8)\t1.0\n",
      "  (0, 10)\t1.0\n",
      "  (0, 11)\t1.0\n",
      "  (0, 12)\t1.0\n",
      "  (0, 13)\t1.0\n",
      "  (0, 17)\t1.0\n",
      "  (0, 19)\t1.0\n",
      "  (0, 21)\t1.0\n",
      "  (0, 31)\t1.0\n",
      "  (1, 0)\t1.0\n",
      "  (1, 2)\t1.0\n",
      "  (1, 3)\t1.0\n",
      "  (1, 7)\t1.0\n",
      "  (1, 13)\t1.0\n",
      "  (1, 17)\t1.0\n",
      "  (1, 19)\t1.0\n",
      "  (1, 21)\t1.0\n",
      "  (1, 30)\t1.0\n",
      "  :\t:\n",
      "  (32, 18)\t1.0\n",
      "  (32, 20)\t1.0\n",
      "  (32, 22)\t1.0\n",
      "  (32, 23)\t1.0\n",
      "  (32, 29)\t1.0\n",
      "  (32, 30)\t1.0\n",
      "  (32, 31)\t1.0\n",
      "  (32, 33)\t1.0\n",
      "  (33, 8)\t1.0\n",
      "  (33, 9)\t1.0\n",
      "  (33, 13)\t1.0\n",
      "  (33, 14)\t1.0\n",
      "  (33, 15)\t1.0\n",
      "  (33, 18)\t1.0\n",
      "  (33, 19)\t1.0\n",
      "  (33, 20)\t1.0\n",
      "  (33, 22)\t1.0\n",
      "  (33, 23)\t1.0\n",
      "  (33, 26)\t1.0\n",
      "  (33, 27)\t1.0\n",
      "  (33, 28)\t1.0\n",
      "  (33, 29)\t1.0\n",
      "  (33, 30)\t1.0\n",
      "  (33, 31)\t1.0\n",
      "  (33, 32)\t1.0\n",
      "<torch.utils.data.dataset.Subset object at 0x7f8c68ee9d60>\n",
      "<torch.utils.data.dataset.Subset object at 0x7f8c68f88680>\n"
     ]
    }
   ],
   "source": [
    "# split into training and test sets\n",
    "adj, train_dataset, test_dataset = split_dataset(dataset)\n",
    "print(f\"adj={adj}\")\n",
    "print(train_dataset)\n",
    "print(test_dataset)"
   ]
  },
  {
   "cell_type": "code",
   "execution_count": 17,
   "id": "0ecb66e1-905f-4459-bffb-f2e358a11fae",
   "metadata": {},
   "outputs": [
    {
     "name": "stdout",
     "output_type": "stream",
     "text": [
      "LPSI:\n",
      "alpha = 0.001, train_auc = 0.323\n",
      "alpha = 0.01, train_auc = 0.323\n",
      "alpha = 0.1, train_auc = 0.323\n",
      "thres = 0.100\n",
      "thres = 0.100, train_f1 = 0.353\n",
      "thres = 0.300\n",
      "thres = 0.300, train_f1 = 0.353\n",
      "thres = 0.500\n",
      "thres = 0.500, train_f1 = 0.353\n",
      "thres = 0.700\n",
      "thres = 0.700, train_f1 = 0.353\n",
      "thres = 0.900\n",
      "thres = 0.900, train_f1 = 0.353\n",
      "train auc: 0.323, train f1: 0.353\n",
      "test acc: 0.353, test pr: 0.214, test re: 1.000, test f1: 0.353, test auc: 0.320\n"
     ]
    }
   ],
   "source": [
    "# LPSI\n",
    "print(\"LPSI:\")\n",
    "lpsi = LPSI()\n",
    "\n",
    "# train LPSI\n",
    "alpha, thres, auc, f1, pred = lpsi.train(adj, train_dataset)\n",
    "print(f\"train auc: {auc:.3f}, train f1: {f1:.3f}\")\n",
    "\n",
    "# test LPSI\n",
    "metric = lpsi.test(adj, test_dataset, alpha, thres)\n",
    "print(f\"test acc: {metric.acc:.3f}, test pr: {metric.pr:.3f}, test re: {metric.re:.3f}, test f1: {metric.f1:.3f}, test auc: {metric.auc:.3f}\")"
   ]
  },
  {
   "cell_type": "code",
   "execution_count": 18,
   "id": "750973ea-2ce8-4fa8-b744-3a1382a0588e",
   "metadata": {},
   "outputs": [
    {
     "name": "stdout",
     "output_type": "stream",
     "text": [
      "NetSleuth:\n",
      "k = 5, train_auc = 0.583\n",
      "k = 10, train_auc = 0.684\n",
      "train auc: 0.684, train f1: 0.448\n",
      "test acc: 0.741, test pr: 0.360, test re: 0.600, test f1: 0.450, test auc: 0.686\n"
     ]
    }
   ],
   "source": [
    "# NetSleuth\n",
    "print(\"NetSleuth:\")\n",
    "netSleuth = NetSleuth()\n",
    "\n",
    "# train NetSleuth\n",
    "k, auc, f1 = netSleuth.train(adj, train_dataset)\n",
    "print(f\"train auc: {auc:.3f}, train f1: {f1:.3f}\")\n",
    "\n",
    "# test NetSleuth\n",
    "metric = netSleuth.test(adj, test_dataset, k)\n",
    "print(f\"test acc: {metric.acc:.3f}, test pr: {metric.pr:.3f}, test re: {metric.re:.3f}, test f1: {metric.f1:.3f}, test auc: {metric.auc:.3f}\")"
   ]
  },
  {
   "cell_type": "code",
   "execution_count": 19,
   "id": "d26f68f0-385c-48c7-8e83-09eebdc5402f",
   "metadata": {},
   "outputs": [
    {
     "name": "stdout",
     "output_type": "stream",
     "text": [
      "OJC:\n",
      "Y = 5, train_auc = 0.422\n",
      "Y = 10, train_auc = 0.422\n",
      "train auc: 0.422, train f1: 0.379\n",
      "test acc: 0.715, test pr: 0.315, test re: 0.525, test f1: 0.394, test auc: 0.640\n"
     ]
    }
   ],
   "source": [
    "# OJC\n",
    "print(\"OJC:\")\n",
    "ojc = OJC()\n",
    "\n",
    "# train OJC\n",
    "Y, auc, f1 = ojc.train(adj, train_dataset)\n",
    "print(f\"train auc: {auc:.3f}, train f1: {f1:.3f}\")\n",
    "\n",
    "# test OJC\n",
    "metric = ojc.test(adj, test_dataset, Y)\n",
    "print(f\"test acc: {metric.acc:.3f}, test pr: {metric.pr:.3f}, test re: {metric.re:.3f}, test f1: {metric.f1:.3f}, test auc: {metric.auc:.3f}\")"
   ]
  },
  {
   "cell_type": "code",
   "execution_count": 20,
   "id": "82273f1e-a278-47b8-8068-32ab81b1cbd6",
   "metadata": {},
   "outputs": [
    {
     "name": "stdout",
     "output_type": "stream",
     "text": [
      "GCNSI:\n",
      "epoch = 0, loss = 7.355\n",
      "epoch = 10, loss = 0.815\n",
      "epoch = 20, loss = 0.721\n",
      "epoch = 30, loss = 0.663\n",
      "epoch = 40, loss = 0.742\n",
      "epoch = 50, loss = 0.620\n",
      "epoch = 60, loss = 0.619\n",
      "epoch = 70, loss = 0.632\n",
      "epoch = 80, loss = 0.606\n",
      "epoch = 90, loss = 0.624\n",
      "train_auc = 0.931\n",
      "thres = 0.100, train_f1 = 0.545\n",
      "thres = 0.300, train_f1 = 0.493\n",
      "thres = 0.500, train_f1 = 0.317\n",
      "thres = 0.700, train_f1 = 0.152\n",
      "thres = 0.900, train_f1 = 0.000\n",
      "train auc: 0.931, train f1: 0.545\n",
      "test acc: 0.706, test pr: 0.375, test re: 1.000, test f1: 0.545, test auc: 0.931\n"
     ]
    }
   ],
   "source": [
    "# GCNSI\n",
    "print(\"GCNSI:\")\n",
    "gcnsi = GCNSI()\n",
    "\n",
    "# train GCNSI\n",
    "gcnsi_model, thres, auc, f1, pred = gcnsi.train(adj, train_dataset)\n",
    "print(f\"train auc: {auc:.3f}, train f1: {f1:.3f}\")\n",
    "\n",
    "# test GCNSI\n",
    "metric = gcnsi.test(adj, test_dataset, gcnsi_model, thres)\n",
    "print(f\"test acc: {metric.acc:.3f}, test pr: {metric.pr:.3f}, test re: {metric.re:.3f}, test f1: {metric.f1:.3f}, test auc: {metric.auc:.3f}\")"
   ]
  },
  {
   "cell_type": "code",
   "execution_count": 21,
   "id": "29657928-e741-4c18-86e3-7e8eec6c3073",
   "metadata": {},
   "outputs": [
    {
     "name": "stdout",
     "output_type": "stream",
     "text": [
      "IVGD:\n",
      "Epoch 0: Train loss = 0.5690, Train error = 0.5690, early stopping loss = 0.6661, early stopping error = 0.6661, (1.052 sec)\n",
      "Epoch 10: Train loss = 0.5370, Train error = 0.5370, early stopping loss = 0.4158, early stopping error = 0.4158, (6.168 sec)\n",
      "Epoch 20: Train loss = 0.4996, Train error = 0.4996, early stopping loss = 0.4988, early stopping error = 0.4988, (6.162 sec)\n",
      "Epoch 30: Train loss = 0.4909, Train error = 0.4909, early stopping loss = 0.5423, early stopping error = 0.5423, (6.164 sec)\n",
      "Epoch 40: Train loss = 0.4839, Train error = 0.4839, early stopping loss = 0.5152, early stopping error = 0.5152, (6.175 sec)\n",
      "Epoch 50: Train loss = 0.5062, Train error = 0.5062, early stopping loss = 0.5135, early stopping error = 0.5135, (6.198 sec)\n",
      "train mean error:0.492\n",
      "early_stopping mean error:0.530\n",
      "validation mean error:0.499\n",
      "run time:32.534 seconds\n",
      "run time per epoch:0.626 seconds\n",
      "epoch 0: loss = 0.452\n",
      "epoch 10: loss = 0.428\n",
      "epoch 20: loss = 0.426\n",
      "epoch 30: loss = 0.418\n",
      "epoch 40: loss = 0.409\n",
      "epoch 50: loss = 0.423\n",
      "epoch 60: loss = 0.380\n",
      "epoch 70: loss = 0.411\n",
      "epoch 80: loss = 0.369\n",
      "epoch 90: loss = 0.436\n",
      "thres = 0.100, train_f1 = 0.364\n",
      "thres = 0.300, train_f1 = 0.500\n",
      "thres = 0.500, train_f1 = 0.542\n",
      "thres = 0.700, train_f1 = 0.637\n",
      "thres = 0.900, train_f1 = 0.637\n",
      "train auc: 0.909, train f1: 0.637\n",
      "test acc: 0.818, test pr: 0.491, test re: 0.900, test f1: 0.635, test auc: 0.908\n"
     ]
    }
   ],
   "source": [
    "# IVGD\n",
    "print(\"IVGD:\")\n",
    "ivgd = IVGD()\n",
    "\n",
    "# train IVGD diffusion\n",
    "diffusion_model = ivgd.train_diffusion(adj, train_dataset)\n",
    "\n",
    "# train IVGD\n",
    "ivgd_model, thres, auc, f1, pred = ivgd.train(\n",
    "    adj, train_dataset, diffusion_model)\n",
    "print(f\"train auc: {auc:.3f}, train f1: {f1:.3f}\")\n",
    "\n",
    "# test IVGD\n",
    "metric = ivgd.test(test_dataset, diffusion_model, ivgd_model, thres)\n",
    "print(f\"test acc: {metric.acc:.3f}, test pr: {metric.pr:.3f}, test re: {metric.re:.3f}, test f1: {metric.f1:.3f}, test auc: {metric.auc:.3f}\")"
   ]
  },
  {
   "cell_type": "code",
   "execution_count": 22,
   "id": "44e0faf8-4341-4821-86ab-185dc4ebdd38",
   "metadata": {},
   "outputs": [
    {
     "name": "stdout",
     "output_type": "stream",
     "text": [
      "SLVAE:\n",
      "train SLVAE:\n",
      "epoch = 0, loss = 0.719\n",
      "epoch = 10, loss = 0.294\n",
      "epoch = 20, loss = 0.224\n",
      "epoch = 30, loss = 0.171\n",
      "epoch = 40, loss = 0.168\n",
      "epoch = 50, loss = 0.346\n",
      "epoch = 60, loss = 0.162\n",
      "epoch = 70, loss = 0.156\n",
      "epoch = 80, loss = 0.190\n",
      "epoch = 90, loss = 0.150\n",
      "infer seed from training set:\n",
      "epoch = 0, obj = -3.8282\n",
      "epoch = 2, obj = -3.8273\n",
      "epoch = 4, obj = -3.8219\n",
      "epoch = 6, obj = -3.8306\n",
      "epoch = 8, obj = -3.8224\n",
      "epoch = 10, obj = -3.8184\n",
      "epoch = 12, obj = -3.8212\n",
      "epoch = 14, obj = -3.8229\n",
      "epoch = 16, obj = -3.8164\n",
      "epoch = 18, obj = -3.8190\n",
      "thres = 0.100, train_f1 = 0.543\n",
      "thres = 0.300, train_f1 = 0.230\n",
      "thres = 0.500, train_f1 = 0.098\n",
      "thres = 0.700, train_f1 = 0.038\n",
      "thres = 0.900, train_f1 = 0.010\n",
      "train auc: 0.937, train f1: 0.543\n",
      "infer seed from test set:\n",
      "epoch = 0, obj = -3.8479\n",
      "epoch = 1, obj = -3.8509\n",
      "epoch = 2, obj = -3.8494\n",
      "epoch = 3, obj = -3.8514\n",
      "epoch = 4, obj = -3.8449\n",
      "epoch = 5, obj = -3.8505\n",
      "epoch = 6, obj = -3.8417\n",
      "epoch = 7, obj = -3.8575\n",
      "epoch = 8, obj = -3.8545\n",
      "epoch = 9, obj = -3.8448\n",
      "test acc: 0.859, test pr: 0.618, test re: 0.525, test f1: 0.556, test auc: 0.936\n"
     ]
    }
   ],
   "source": [
    "# SLVAE\n",
    "print(\"SLVAE:\")\n",
    "slave = SLVAE()\n",
    "\n",
    "# train SLVAE\n",
    "slvae_model, seed_vae_train, thres, auc, f1, pred = slave.train(\n",
    "    adj, train_dataset)\n",
    "print(f\"train auc: {auc:.3f}, train f1: {f1:.3f}\")\n",
    "\n",
    "# test SLVAE\n",
    "metric = slave.infer(test_dataset, slvae_model, seed_vae_train, thres)\n",
    "print(f\"test acc: {metric.acc:.3f}, test pr: {metric.pr:.3f}, test re: {metric.re:.3f}, test f1: {metric.f1:.3f}, test auc: {metric.auc:.3f}\")"
   ]
  },
  {
   "cell_type": "code",
   "execution_count": null,
   "id": "d64c8398-612b-4c8f-b79e-7d3a41702f11",
   "metadata": {},
   "outputs": [],
   "source": []
  }
 ],
 "metadata": {
  "kernelspec": {
   "display_name": "Python 3 (ipykernel)",
   "language": "python",
   "name": "python3"
  },
  "language_info": {
   "codemirror_mode": {
    "name": "ipython",
    "version": 3
   },
   "file_extension": ".py",
   "mimetype": "text/x-python",
   "name": "python",
   "nbconvert_exporter": "python",
   "pygments_lexer": "ipython3",
   "version": "3.12.3"
  }
 },
 "nbformat": 4,
 "nbformat_minor": 5
}
